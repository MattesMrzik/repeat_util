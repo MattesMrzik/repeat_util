{
 "cells": [
  {
   "cell_type": "code",
   "execution_count": 71,
   "metadata": {},
   "outputs": [],
   "source": [
    "import pandas as pd\n",
    "import numpy as np\n",
    "import os\n",
    "import glob\n",
    "import re"
   ]
  },
  {
   "cell_type": "code",
   "execution_count": 72,
   "metadata": {},
   "outputs": [],
   "source": [
    "# path to the dir that contains the output files from the cpp_code (filenames must end with .out)\n",
    "dir = 'out'"
   ]
  },
  {
   "cell_type": "code",
   "execution_count": 73,
   "metadata": {},
   "outputs": [],
   "source": [
    "all_files = glob.glob(os.path.join(dir, \"*.out\"))\n",
    "df = pd.concat((pd.read_csv(f, header=None) for f in all_files), ignore_index=True)\n",
    "# seq. name: from the fasta or fastq file\n",
    "# frame: [0, ..., k]\n",
    "# repeat_representation: for example AG(GAC)_4 TGT\n",
    "# score_type: run c++ main -h to see the available score types\n",
    "# score: the score of the repeat_representation\n",
    "# was_too_long: 1 if the if the input seq was longer than the configured max length, see c++ main -h\n",
    "df.columns = ['seq_name', 'frame', 'repeat_representation', 'score_type', 'score', 'was_too_long']"
   ]
  },
  {
   "cell_type": "code",
   "execution_count": 74,
   "metadata": {},
   "outputs": [],
   "source": [
    "# extract the values from the strings\n",
    "df['frame'] = df['frame'].str.extract(r'frame[:\\s]+(\\d+)', expand=False).astype(int)\n",
    "df['score_type'] = df[\"score_type\"].str.extract(r'score_type[:\\s]+(\\w+)', expand=False)\n",
    "df['score'] = df['score'].str.extract(r'score[:\\s]+(\\d+)', expand=False).astype(int)\n",
    "df['was_too_long'] = df['was_too_long'].str.extract(\n",
    "    r'seqlen too long[:\\s]+(\\w+)', expand=False).astype(int).astype(bool)\n",
    "# creating new columns\n",
    "df[\"no_flanks\"] = df[\"repeat_representation\"].apply(lambda x: x[x.index(\"(\"):x.rfind(\" \")])\n"
   ]
  },
  {
   "cell_type": "code",
   "execution_count": 75,
   "metadata": {},
   "outputs": [],
   "source": [
    "# these are currently not used\n",
    "def color_negative_red(val):\n",
    "    if val < 1:\n",
    "        font_color = 'white'\n",
    "        background_color = 'red'\n",
    "    else:\n",
    "        font_color = 'black'\n",
    "        background_color = 'white'\n",
    "    return 'color: %s; background-color: %s' % (font_color, background_color)\n",
    "\n",
    "\n",
    "def highlight_chars_with_A(text):\n",
    "    styled_text = ''\n",
    "    for char in text:\n",
    "        if char == 'A':\n",
    "            styled_text += '<span style=\"color: white; background-color: red;\">%s</span>' % char\n",
    "        else:\n",
    "            styled_text += char\n",
    "    return styled_text\n",
    "# df.style.applymap(color_negative_red, subset=[\"frame\"])\n",
    "# df['repeat_representation'] = df['repeat_representation'].apply(highlight_chars_with_A)\n"
   ]
  },
  {
   "cell_type": "code",
   "execution_count": 160,
   "metadata": {},
   "outputs": [],
   "source": [
    "categories = [[\"(CAG)\", \"TAG\", \"(CAG)\"],\n",
    "              [\"(CAG)\", \"CAA\", \"(CAG)\"]]  # also maybe with numbers as minimum requirements"
   ]
  },
  {
   "cell_type": "code",
   "execution_count": 171,
   "metadata": {},
   "outputs": [
    {
     "data": {
      "text/plain": [
       "[0, 0, False]"
      ]
     },
     "execution_count": 171,
     "metadata": {},
     "output_type": "execute_result"
    }
   ],
   "source": [
    "def seq_conforms_with_category(row, categories, max_interruption_len):\n",
    "    minimum = float(\"inf\")\n",
    "    maximum = float(\"-inf\")\n",
    "    seq = row[\"no_flanks\"]\n",
    "    found_categories = [0] * len(categories)\n",
    "    for i, category in enumerate(categories):\n",
    "        # find all start and stops, see if all tandem repeats in the string are covered\n",
    "        pattern = (p if p[0] != \"(\" else p.replace(\"(\", \"\\(\").replace(\")\", \"\\)\") + \"\\_\\d+\\s\" for p in category)\n",
    "        pattern = \"(?=(\" + \"\".join(pattern) + \"))\"\n",
    "        matches = re.finditer(pattern, seq)\n",
    "        for hit in matches:\n",
    "\n",
    "            start = hit.start()\n",
    "            end = hit.end() + len(hit.group(1))\n",
    "\n",
    "            found_categories[i] = 1\n",
    "\n",
    "            if start < minimum:\n",
    "                minimum = start\n",
    "            if end > maximum:\n",
    "                maximum = end\n",
    "\n",
    "    if minimum == float(\"inf\"):\n",
    "        new_row = found_categories + [False]\n",
    "    elif \")\" in seq[:minimum] or \"(\" in seq[maximum:]:\n",
    "        new_row = found_categories + [False]\n",
    "    else:\n",
    "        new_row = found_categories + [True]\n",
    "        if len(found_categories) == 2:\n",
    "            print(\"foudn 2\")\n",
    "            print(\"minimun\", minimum)\n",
    "            print(\"max\", maximum)\n",
    "        print(\"found complete\")\n",
    "    return pd.Series(new_row)\n",
    "\n",
    "list(seq_conforms_with_category({\"no_flanks\":\"CAG\"}, categories, 6))\n"
   ]
  },
  {
   "cell_type": "code",
   "execution_count": 173,
   "metadata": {},
   "outputs": [],
   "source": [
    "categories_as_col_names = [\"\".join(c) for c in categories]\n",
    "max_interruption_len = 6\n",
    "\n",
    "# how to recognize spurious repeats? that are small and far away from the repeat of interest?\n",
    "\n",
    "new_cols = df.apply(lambda x: seq_conforms_with_category(x, categories, max_interruption_len), axis=1)\n",
    "new_cols.columns = [\"\".join(c) for c in categories] + [\"completly_defined\"]\n",
    "for column in new_cols.columns:\n",
    "    if column in df.columns:\n",
    "        df[column] = new_cols[column]\n",
    "        del new_cols[column]\n",
    "\n",
    "df = pd.concat([df, new_cols], axis=1)\n"
   ]
  },
  {
   "cell_type": "code",
   "execution_count": 163,
   "metadata": {},
   "outputs": [
    {
     "data": {
      "text/html": [
       "<div>\n",
       "<style scoped>\n",
       "    .dataframe tbody tr th:only-of-type {\n",
       "        vertical-align: middle;\n",
       "    }\n",
       "\n",
       "    .dataframe tbody tr th {\n",
       "        vertical-align: top;\n",
       "    }\n",
       "\n",
       "    .dataframe thead th {\n",
       "        text-align: right;\n",
       "    }\n",
       "</style>\n",
       "<table border=\"1\" class=\"dataframe\">\n",
       "  <thead>\n",
       "    <tr style=\"text-align: right;\">\n",
       "      <th></th>\n",
       "      <th>no_flanks</th>\n",
       "      <th>completly_defined</th>\n",
       "      <th>(CAG)TAG(CAG)</th>\n",
       "      <th>(CAG)CAA(CAG)</th>\n",
       "    </tr>\n",
       "  </thead>\n",
       "  <tbody>\n",
       "    <tr>\n",
       "      <th>13</th>\n",
       "      <td>(GCT)_2 CCTGGGTGTAGTGAGATGTCTCCAGCCAGGGCCAAG(C...</td>\n",
       "      <td>False</td>\n",
       "      <td>1</td>\n",
       "      <td>1</td>\n",
       "    </tr>\n",
       "    <tr>\n",
       "      <th>235</th>\n",
       "      <td>(CAG)_3 TAG(CAG)_4 TAG(CAG)_4 CAA(CAG)_5 CAA(C...</td>\n",
       "      <td>False</td>\n",
       "      <td>1</td>\n",
       "      <td>1</td>\n",
       "    </tr>\n",
       "  </tbody>\n",
       "</table>\n",
       "</div>"
      ],
      "text/plain": [
       "                                             no_flanks  completly_defined   \n",
       "13   (GCT)_2 CCTGGGTGTAGTGAGATGTCTCCAGCCAGGGCCAAG(C...              False  \\\n",
       "235  (CAG)_3 TAG(CAG)_4 TAG(CAG)_4 CAA(CAG)_5 CAA(C...              False   \n",
       "\n",
       "     (CAG)TAG(CAG)  (CAG)CAA(CAG)  \n",
       "13               1              1  \n",
       "235              1              1  "
      ]
     },
     "execution_count": 163,
     "metadata": {},
     "output_type": "execute_result"
    }
   ],
   "source": [
    "df[[\"no_flanks\", \"completly_defined\", *categories_as_col_names]][(df[\"(CAG)TAG(CAG)\"]==1) & (df[\"(CAG)CAA(CAG)\"]==1)]"
   ]
  },
  {
   "cell_type": "code",
   "execution_count": null,
   "metadata": {},
   "outputs": [],
   "source": []
  }
 ],
 "metadata": {
  "kernelspec": {
   "display_name": "venv",
   "language": "python",
   "name": "python3"
  },
  "language_info": {
   "codemirror_mode": {
    "name": "ipython",
    "version": 3
   },
   "file_extension": ".py",
   "mimetype": "text/x-python",
   "name": "python",
   "nbconvert_exporter": "python",
   "pygments_lexer": "ipython3",
   "version": "3.10.12"
  }
 },
 "nbformat": 4,
 "nbformat_minor": 2
}
