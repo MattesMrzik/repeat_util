{
 "cells": [
  {
   "cell_type": "code",
   "execution_count": 114,
   "metadata": {},
   "outputs": [],
   "source": [
    "import pandas as pd\n",
    "import numpy as np\n",
    "import os\n",
    "import glob\n",
    "import re\n",
    "from typing import List, Callable\n",
    "from enum import Enum"
   ]
  },
  {
   "cell_type": "code",
   "execution_count": 115,
   "metadata": {},
   "outputs": [],
   "source": [
    "# path to the dir that contains the output files from the cpp_code (filenames must end with .out)\n",
    "dir = 'out'"
   ]
  },
  {
   "cell_type": "code",
   "execution_count": 116,
   "metadata": {},
   "outputs": [],
   "source": [
    "all_files = glob.glob(os.path.join(dir, \"*.out\"))\n",
    "df = pd.concat((pd.read_csv(f, header=None) for f in all_files), ignore_index=True)\n",
    "# seq. name: from the fasta or fastq file\n",
    "# frame: [0, ..., k]\n",
    "# repeat_representation: for example AG(GAC)_4 TGT\n",
    "# score_type: run c++ main -h to see the available score types\n",
    "# score: the score of the repeat_representation\n",
    "# was_too_long: 1 if the if the input seq was longer than the configured max length, see c++ main -h\n",
    "df.columns = ['seq_name', 'frame', 'repeat_representation', 'score_type', 'score', 'was_too_long']"
   ]
  },
  {
   "cell_type": "code",
   "execution_count": 117,
   "metadata": {},
   "outputs": [],
   "source": [
    "# extract the values from the strings\n",
    "df['frame'] = df['frame'].str.extract(r'frame[:\\s]+(\\d+)', expand=False).astype(int)\n",
    "df['score_type'] = df[\"score_type\"].str.extract(r'score_type[:\\s]+(\\w+)', expand=False)\n",
    "df['score'] = df['score'].str.extract(r'score[:\\s]+(\\d+)', expand=False).astype(int)\n",
    "df['was_too_long'] = df['was_too_long'].str.extract(\n",
    "    r'seqlen too long[:\\s]+(\\w+)', expand=False).astype(int).astype(bool)\n",
    "# creating new columns\n",
    "df[\"no_flanks\"] = df[\"repeat_representation\"].apply(lambda x: x[x.index(\"(\"):x.rfind(\" \")+1]) # TODO: maybe dont use the +1 and adapt the pattern in seq_conforms_with_category accordingly\n"
   ]
  },
  {
   "cell_type": "code",
   "execution_count": 118,
   "metadata": {},
   "outputs": [],
   "source": [
    "# these are currently not used\n",
    "def color_negative_red(val):\n",
    "    if val < 1:\n",
    "        font_color = 'white'\n",
    "        background_color = 'red'\n",
    "    else:\n",
    "        font_color = 'black'\n",
    "        background_color = 'white'\n",
    "    return 'color: %s; background-color: %s' % (font_color, background_color)\n",
    "\n",
    "\n",
    "def highlight_chars_with_A(text):\n",
    "    styled_text = ''\n",
    "    for char in text:\n",
    "        if char == 'A':\n",
    "            styled_text += '<span style=\"color: white; background-color: red;\">%s</span>' % char\n",
    "        else:\n",
    "            styled_text += char\n",
    "    return styled_text\n",
    "# df.style.applymap(color_negative_red, subset=[\"frame\"])\n",
    "# df['repeat_representation'] = df['repeat_representation'].apply(highlight_chars_with_A)\n"
   ]
  },
  {
   "cell_type": "code",
   "execution_count": 119,
   "metadata": {},
   "outputs": [],
   "source": [
    "categories = [[\"(CAG)\", \"TAG\", \"(CAG)\"],\n",
    "              [\"(CAG)\", \"CAA\", \"(CAG)\"],\n",
    "              [\"(CAG)\", \"CCG\", \"(CAG)\"]]  # also maybe with numbers as minimum requirements"
   ]
  },
  {
   "cell_type": "code",
   "execution_count": 153,
   "metadata": {},
   "outputs": [],
   "source": [
    "class Seq_has(Enum):\n",
    "    NO_NEIGHBOUR = 0\n",
    "    LEFT_NEIGHBOUR = 1\n",
    "    RIGHT_NEIGHBOUR = 2\n",
    "    BOTH_NEIGHBOURS = 3\n",
    "\n",
    "\n",
    "def seq_conforms_with_category(row,\n",
    "                               categories: List[List[str]],\n",
    "                               is_spurious: Callable[[str, Seq_has], bool] = lambda x: False\n",
    "                               ) -> pd.Series:\n",
    "    \"\"\"\n",
    "    Parameters:\n",
    "    row: a row from the dataframe\n",
    "    categories: a list of lists of strings, each list of strings represents a category of tandem repeats\n",
    "    is_spurious: a function that takes a string and returns a boolean, if repeats in a str are spurious\n",
    "\n",
    "    Returns: a series of booleans, each representing if the row's repeat_representation conforms with a category. The\n",
    "    last element is a boolean whether the seq is completely categorizabled or not\n",
    "    \"\"\"\n",
    "    seq = row[\"no_flanks\"]  # if this is changed then i must adapt middles_are_spurious\n",
    "    found_categories = [0] * len(categories)\n",
    "    positions_with_found_categories = [0] * len(seq)\n",
    "    for i, category in enumerate(categories):\n",
    "        # find all start and stops, see if all tandem repeats in the string are covered\n",
    "        pattern = (p if p[0] != \"(\" else p.replace(\"(\", \"\\(\").replace(\")\", \"\\)\") + \"\\_\\d+\\s\" for p in category)\n",
    "        pattern = \"(?=(\" + \"\".join(pattern) + \"))\"  # to find overlapping matches\n",
    "        matches = re.finditer(pattern, seq)\n",
    "        for hit in matches:\n",
    "\n",
    "            start = hit.start()\n",
    "            end = hit.end() + len(hit.group(1))\n",
    "\n",
    "            found_categories[i] = 1\n",
    "            positions_with_found_categories[start:end] = [1] * (end - start)\n",
    "\n",
    "    mapped_string = \"\".join(str(x) for x in positions_with_found_categories)\n",
    "    # print(mapped_string)\n",
    "    matches = [match for match in re.finditer(\"0+\", mapped_string)]\n",
    "    if len(matches) == 0:\n",
    "        return pd.Series(found_categories + [True])  # seq is complete categorized\n",
    "    found_not_spurious = False\n",
    "    for match in matches:  # check all uncatagorized parts\n",
    "        if match.start() == 0 and match.end() == len(seq):\n",
    "            found_not_spurious = found_not_spurious or not is_spurious(seq, Seq_has.NO_NEIGHBOUR)\n",
    "        elif match.start() == 0:\n",
    "            found_not_spurious = found_not_spurious or not is_spurious(seq[0:match.end()], Seq_has.RIGHT_NEIGHBOUR)\n",
    "        elif match.end() == len(seq):\n",
    "            found_not_spurious = found_not_spurious or not is_spurious(seq[match.start():], Seq_has.LEFT_NEIGHBOUR)\n",
    "        else:\n",
    "            found_not_spurious = found_not_spurious or not is_spurious(\n",
    "                seq[match.start():match.end()], Seq_has.BOTH_NEIGHBOURS)\n",
    "\n",
    "    return pd.Series(found_categories + [not found_not_spurious])\n",
    "\n",
    "\n",
    "def is_spurious_by_max_repeat_len_and_min_distance(seq,\n",
    "                                                   max_repeat_len: int,\n",
    "                                                   min_distance: int,\n",
    "                                                   relation_to_neighbour: Seq_has,\n",
    "                                                   ) -> bool:\n",
    "    \"\"\"\n",
    "    Parameters:\n",
    "    str: the string to check\n",
    "    max_repeat_len: if repeat is shorter than this, it is considered spurious\n",
    "    min_distance: if the distance between two repeats is greater than this, it is considered spurious\n",
    "    relation_to_neighbour: if Seq_has.NO_NEIGHBOUR: then the seq is considered to have no neighbouring sequences\n",
    "                           if Seq_has.LEFT_NEIGHBOUR: then the seq is considered to have a neighbour to the left that ends in a repeat\n",
    "                           if Seq_has.RIGHT_NEIGHBOUR: then the seq is considered to have a neighbour to the right that starts with a repeat\n",
    "                           if Seq_has.BOTH_NEIGHBOURS: then the seq is considered to have both neighbours\n",
    "    \"\"\"\n",
    "    # print(seq)\n",
    "    for x in re.finditer(\"\\(\\w+\\)_(\\d+)\\s\", seq):\n",
    "        if int(x.group(1)) > max_repeat_len:\n",
    "            # print(\"repeat is too long\")\n",
    "            return False\n",
    "\n",
    "    if (x := re.search(\"\\(\\w+\\)_\\d+\\s(\\w*)\\(\", seq)):\n",
    "        if len(x.group(1)) < min_distance:\n",
    "            # print(\"repeats are to close\")\n",
    "            return False\n",
    "\n",
    "    if relation_to_neighbour == Seq_has.LEFT_NEIGHBOUR or relation_to_neighbour == Seq_has.BOTH_NEIGHBOURS:\n",
    "        if (x := re.match(\"(\\w*)\\(\", seq)):\n",
    "            if len(x.group(1)) < min_distance:\n",
    "                # print(\"Left neighbour is too close\")\n",
    "                return False\n",
    "    if relation_to_neighbour == Seq_has.RIGHT_NEIGHBOUR or relation_to_neighbour == Seq_has.BOTH_NEIGHBOURS:\n",
    "        if (x := re.search(\"\\s(\\w*)$\", seq)):\n",
    "            if len(x.group(1)) < min_distance:\n",
    "                # print(\"Right neighbour is too close\")\n",
    "                return False\n",
    "    return True\n"
   ]
  },
  {
   "cell_type": "code",
   "execution_count": 155,
   "metadata": {},
   "outputs": [
    {
     "name": "stdout",
     "output_type": "stream",
     "text": [
      "[1, 0, 0, True]\n",
      "[1, 1, 0, True]\n",
      "[0, 0, 0, True]\n",
      "[0, 0, 0, False]\n",
      "[1, 1, 0, False]\n",
      "[1, 1, 0, True]\n",
      "[1, 1, 0, False]\n",
      "[1, 1, 0, True]\n",
      "[1, 1, 0, True]\n",
      "[1, 1, 0, False]\n",
      "[1, 1, 0, False]\n",
      "[1, 1, 0, False]\n"
     ]
    }
   ],
   "source": [
    "max_repeat_len = 3 # 3 and below is considered spurious\n",
    "min_distance = 6 # farther apart than including 6 is considered spurious\n",
    "sample_seqs = [\"(CAG)_2 TAG(CAG)_12 \", # True\n",
    "               \"(CAG)_2 TAG(CAG)_12 CAA(CAG)_2 \", # True\n",
    "               \"(AAA)_2 NNNNNN(AAA)_2 \", # True\n",
    "               \"(AAA)_4 NNNNNN(AAA)_2 \", # False\n",
    "               \"(CAG)_2 TAG(CAG)_12 CAA(CAG)_2 NNNNN(TTT)_3 \", # False\n",
    "               \"(CAG)_2 TAG(CAG)_12 CAA(CAG)_2 NNNNNN(TTT)_3 \", # True\n",
    "               \"(TTT)_3 NNNNN(CAG)_2 TAG(CAG)_12 CAA(CAG)_2 \", # False\n",
    "               \"(TTT)_3 NNNNNN(CAG)_2 TAG(CAG)_12 CAA(CAG)_2 \", # True\n",
    "               \"(CAG)_2 TAG(CAG)_12 NNNNNN(AAA)_3 NNNNNN(CAG)_2 CAA(CAG)_2 NNNNNN(TTT)_3 \", # True\n",
    "               \"(CAG)_2 TAG(CAG)_12 NNNNNN(AAA)_3 NNNNN(CAG)_2 CAA(CAG)_2 NNNNNN(TTT)_3 \", # False\n",
    "               \"(CAG)_2 TAG(CAG)_12 NNNNN(AAA)_3 NNNNNN(CAG)_2 CAA(CAG)_2 NNNNNN(TTT)_3 \", # False\n",
    "               \"(CAG)_2 TAG(CAG)_12 NNNNNN(AAA)_4 NNNNNN(CAG)_2 CAA(CAG)_2 NNNNNN(TTT)_3 \"] # False\n",
    "# sample_seqs = [\"(GCT)_2 CCTGGGTGTAGTGAGATGTCTCCAGCCAGGGCCAAG(CAG)_3 TAG(CAG)_4 TAG(CAG)_4 CAA(CAG)_5 CAA(CAG)_3 \"]\n",
    "for seq in sample_seqs:\n",
    "    print(list(seq_conforms_with_category({\"no_flanks\": seq},\n",
    "                                          categories, lambda seq, neighbour: is_spurious_by_max_repeat_len_and_min_distance(seq, max_repeat_len, min_distance, neighbour))))\n"
   ]
  },
  {
   "cell_type": "code",
   "execution_count": 156,
   "metadata": {},
   "outputs": [],
   "source": [
    "categories_as_col_names = [\"\".join(c) for c in categories]\n",
    "\n",
    "# how to recognize spurious repeats? that are small and far away from the repeat of interest?\n",
    "max_repeat_len = 3\n",
    "min_distance = 6\n",
    "def f(x): return seq_conforms_with_category(x, categories, lambda seq,\n",
    "                                            neighbour: is_spurious_by_max_repeat_len_and_min_distance(seq, max_repeat_len, min_distance, neighbour))\n",
    "\n",
    "\n",
    "new_cols = df.apply(f, axis=1)\n",
    "new_cols.columns = [\"\".join(c) for c in categories] + [\"completely_defined\"]\n",
    "for column in new_cols.columns:\n",
    "    if column in df.columns:\n",
    "        df[column] = new_cols[column]\n",
    "        del new_cols[column]\n",
    "\n",
    "df = pd.concat([df, new_cols], axis=1)\n"
   ]
  },
  {
   "cell_type": "code",
   "execution_count": 127,
   "metadata": {},
   "outputs": [
    {
     "data": {
      "text/html": [
       "<div>\n",
       "<style scoped>\n",
       "    .dataframe tbody tr th:only-of-type {\n",
       "        vertical-align: middle;\n",
       "    }\n",
       "\n",
       "    .dataframe tbody tr th {\n",
       "        vertical-align: top;\n",
       "    }\n",
       "\n",
       "    .dataframe thead th {\n",
       "        text-align: right;\n",
       "    }\n",
       "</style>\n",
       "<table border=\"1\" class=\"dataframe\">\n",
       "  <thead>\n",
       "    <tr style=\"text-align: right;\">\n",
       "      <th></th>\n",
       "      <th>seq_name</th>\n",
       "      <th>frame</th>\n",
       "      <th>repeat_representation</th>\n",
       "      <th>score_type</th>\n",
       "      <th>score</th>\n",
       "      <th>was_too_long</th>\n",
       "      <th>no_flanks</th>\n",
       "      <th>(CAG)TAG(CAG)</th>\n",
       "      <th>(CAG)CAA(CAG)</th>\n",
       "      <th>(CAG)CCG(CAG)</th>\n",
       "      <th>completely_defined</th>\n",
       "    </tr>\n",
       "  </thead>\n",
       "  <tbody>\n",
       "    <tr>\n",
       "      <th>13</th>\n",
       "      <td>@SRR23922262.828599.1 828599 length=151</td>\n",
       "      <td>1</td>\n",
       "      <td>G(GCT)_2 CCTGGGTGTAGTGAGATGTCTCCAGCCAGGGCCAAG(CAG)_3 TAG(CAG)_4 TAG(CAG)_4 CAA(CAG)_5 CAA(CAG)_3 CAAAGGGTCTGTGTTGCTAAGAGGCTTTTGGTTTCTTTC</td>\n",
       "      <td>CAG</td>\n",
       "      <td>15</td>\n",
       "      <td>False</td>\n",
       "      <td>(GCT)_2 CCTGGGTGTAGTGAGATGTCTCCAGCCAGGGCCAAG(CAG)_3 TAG(CAG)_4 TAG(CAG)_4 CAA(CAG)_5 CAA(CAG)_3</td>\n",
       "      <td>1</td>\n",
       "      <td>1</td>\n",
       "      <td>0</td>\n",
       "      <td>False</td>\n",
       "    </tr>\n",
       "    <tr>\n",
       "      <th>235</th>\n",
       "      <td>@SRR23922262.15732653.2 15732653 length=151</td>\n",
       "      <td>0</td>\n",
       "      <td>CCTGGGTGTAGTGAGATGTCTCCAGCCAGGGCCAAG(CAG)_3 TAG(CAG)_4 TAG(CAG)_4 CAA(CAG)_5 CAA(CAG)_3 CAAAGGGTCTGTGTTGCTAAGAGGCTTTTGGTTTCTTTCCCTCCAC</td>\n",
       "      <td>CAG</td>\n",
       "      <td>15</td>\n",
       "      <td>False</td>\n",
       "      <td>(CAG)_3 TAG(CAG)_4 TAG(CAG)_4 CAA(CAG)_5 CAA(CAG)_3</td>\n",
       "      <td>1</td>\n",
       "      <td>1</td>\n",
       "      <td>0</td>\n",
       "      <td>True</td>\n",
       "    </tr>\n",
       "  </tbody>\n",
       "</table>\n",
       "</div>"
      ],
      "text/plain": [
       "                                        seq_name  frame   \n",
       "13       @SRR23922262.828599.1 828599 length=151      1  \\\n",
       "235  @SRR23922262.15732653.2 15732653 length=151      0   \n",
       "\n",
       "                                                                                                                         repeat_representation   \n",
       "13    G(GCT)_2 CCTGGGTGTAGTGAGATGTCTCCAGCCAGGGCCAAG(CAG)_3 TAG(CAG)_4 TAG(CAG)_4 CAA(CAG)_5 CAA(CAG)_3 CAAAGGGTCTGTGTTGCTAAGAGGCTTTTGGTTTCTTTC  \\\n",
       "235     CCTGGGTGTAGTGAGATGTCTCCAGCCAGGGCCAAG(CAG)_3 TAG(CAG)_4 TAG(CAG)_4 CAA(CAG)_5 CAA(CAG)_3 CAAAGGGTCTGTGTTGCTAAGAGGCTTTTGGTTTCTTTCCCTCCAC   \n",
       "\n",
       "    score_type  score  was_too_long   \n",
       "13         CAG     15         False  \\\n",
       "235        CAG     15         False   \n",
       "\n",
       "                                                                                            no_flanks   \n",
       "13   (GCT)_2 CCTGGGTGTAGTGAGATGTCTCCAGCCAGGGCCAAG(CAG)_3 TAG(CAG)_4 TAG(CAG)_4 CAA(CAG)_5 CAA(CAG)_3   \\\n",
       "235                                              (CAG)_3 TAG(CAG)_4 TAG(CAG)_4 CAA(CAG)_5 CAA(CAG)_3    \n",
       "\n",
       "     (CAG)TAG(CAG)  (CAG)CAA(CAG)  (CAG)CCG(CAG)  completely_defined  \n",
       "13               1              1              0               False  \n",
       "235              1              1              0                True  "
      ]
     },
     "execution_count": 127,
     "metadata": {},
     "output_type": "execute_result"
    }
   ],
   "source": [
    "pd.set_option('display.max_colwidth', None)\n",
    "# df[[\"no_flanks\", \"completely_defined\", *categories_as_col_names]][(df[\"(CAG)TAG(CAG)\"]==1) & (df[\"(CAG)CAA(CAG)\"]==1)]\n",
    "df[(df[\"(CAG)TAG(CAG)\"]==1) & (df[\"(CAG)CAA(CAG)\"]==1)]"
   ]
  },
  {
   "cell_type": "code",
   "execution_count": 157,
   "metadata": {},
   "outputs": [
    {
     "name": "stdout",
     "output_type": "stream",
     "text": [
      "from all samples (240) 47 were categorizes completely\n"
     ]
    }
   ],
   "source": [
    "print(f\"from all samples ({len(df)}) {len(df[df['completely_defined']==1])} were categorizes completely\")"
   ]
  },
  {
   "cell_type": "code",
   "execution_count": 158,
   "metadata": {},
   "outputs": [
    {
     "data": {
      "text/plain": [
       "0                                                      (CAG)_2 CCA(CAG)_4 CAA(CAG)_3 CCG(CAG)_4 CCA(CAG)_3 CCG(CAG)_4 CCA(CAG)_3 \n",
       "1                                                                     (AAG)_2 CAGCTTGAG(CAG)_5 CAA(CAG)_3 CAA(CAG)_10 ACA(GAA)_2 \n",
       "2                                                                                                     (CAG)_12 CATCAGCAT(CAG)_14 \n",
       "7                                                                     (AAG)_2 CAGCTTGAG(CAG)_5 CAA(CAG)_3 CAA(CAG)_11 ACA(GAA)_2 \n",
       "8                                                                                                   (CAC)_2 CAGCAACAGCAA(CAG)_19 \n",
       "10                                             (CAG)_19 CATCACGGAAACTCTGGGCCC(CCT)_3 GGAGCATTTCCCCACCCACTGGAGGGCGGTAGCTCC(CAC)_2 \n",
       "11                                                  (CAG)_5 CAA(CAG)_3 CAA(CAG)_10 ACA(GAA)_2 TGGACAGAAGATCACTCAGCCCTTGTG(CCT)_2 \n",
       "12                                                                     (CAC)_2 CAGCAACAGCAA(CAG)_19 CATCACGGAAACTCTGGGCCC(CCT)_3 \n",
       "14                           (CAG)_2 (CAA)_2 (CAG)_14 CCCATGCCCCGC(AGC)_2 CAG(GAG)_2 AAAGATGAGAAGGAGAAGGAAAAGGAGGCGGAGAAG(GAG)_3 \n",
       "15                                                                           (CAA)_2 AGG(CAG)_3 (CAA)_4 (CAG)_8 CAACAGCAA(CAG)_7 \n",
       "16                                                                     (CAC)_2 CAGCAACAGCAA(CAG)_19 CATCACGGAAACTCTGGGCCC(CCT)_3 \n",
       "17                     (AAT)_3 GCCAAGCGAGCTACAGCCAACAAT(CAG)_2 CCA(CAG)_4 CAA(CAG)_3 CCG(CAG)_4 CCA(CAG)_3 CCG(CAG)_4 CCA(CAG)_3 \n",
       "18                                                    (AGG)_2 GGACCCTAATAGGAGTATTCATAC(CAG)_8 TAG(CAG)_10 TAG(CAG)_10 AAG(CAG)_2 \n",
       "20    (TAC)_2 CTGACT(AAG)_2 AATGAGAACTATAAGAGCCTGGTGAGACGGAGCTATCGG(CGC)_2 GGCAAGAGC(CAG)_2 (CAA)_2 (CAG)_13 CCCATGCCCCGC(AGC)_2 \n",
       "21                                               (CAG)_3 (CAA)_2 (CAG)_6 AAG(CAG)_5 CAC(CAG)_3 CAA(CAG)_4 CAACAGACGACTACG(ACA)_2 \n",
       "22                                           (CCA)_2 GTCTCAACACATCACCAT(CAC)_2 CAGCAACAGCAA(CAG)_19 CATCACGGAAACACTGGGCCC(CCT)_3 \n",
       "24                                                                                                    (CAG)_12 CATCAGCAT(CAG)_14 \n",
       "25                                                                    (AAG)_2 CAGCTTGAG(CAG)_5 CAA(CAG)_3 CAA(CAG)_10 ACA(GAA)_2 \n",
       "26                                 (AAG)_2 CAGCTTGAG(CAG)_4 CAA(CAG)_3 CAA(CAG)_11 ACA(GAA)_2 TGGACAGAAGATCACTCAGCCCTTGTG(CCT)_2 \n",
       "28                                         (CAG)_4 CAA(CAG)_3 CCG(CAG)_7 CAA(CAG)_3 CCG(CAG)_4 CCA(CAG)_3 CCACAGCCGCAGCCG(CAG)_3 \n",
       "Name: no_flanks, dtype: object"
      ]
     },
     "execution_count": 158,
     "metadata": {},
     "output_type": "execute_result"
    }
   ],
   "source": [
    "df[df[\"completely_defined\"]==0][\"no_flanks\"][0:20]"
   ]
  },
  {
   "cell_type": "code",
   "execution_count": null,
   "metadata": {},
   "outputs": [],
   "source": []
  }
 ],
 "metadata": {
  "kernelspec": {
   "display_name": "venv",
   "language": "python",
   "name": "python3"
  },
  "language_info": {
   "codemirror_mode": {
    "name": "ipython",
    "version": 3
   },
   "file_extension": ".py",
   "mimetype": "text/x-python",
   "name": "python",
   "nbconvert_exporter": "python",
   "pygments_lexer": "ipython3",
   "version": "3.10.12"
  }
 },
 "nbformat": 4,
 "nbformat_minor": 2
}
