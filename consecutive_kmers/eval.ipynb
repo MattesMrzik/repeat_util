{
 "cells": [
  {
   "cell_type": "code",
   "execution_count": 20,
   "metadata": {},
   "outputs": [],
   "source": [
    "import pandas as pd\n",
    "import numpy as np\n",
    "import os\n",
    "import glob\n",
    "import re"
   ]
  },
  {
   "cell_type": "code",
   "execution_count": 10,
   "metadata": {},
   "outputs": [],
   "source": [
    "# path to the dir that contains the output files from the cpp_code (filenames must end with .out)\n",
    "dir = 'out'"
   ]
  },
  {
   "cell_type": "code",
   "execution_count": 11,
   "metadata": {},
   "outputs": [],
   "source": [
    "all_files = glob.glob(os.path.join(dir, \"*.out\"))\n",
    "df = pd.concat((pd.read_csv(f, header=None) for f in all_files), ignore_index=True)\n",
    "# seq. name: from the fasta or fastq file\n",
    "# frame: [0, ..., k]\n",
    "# repeat_representation: for example AG(GAC)_4 TGT\n",
    "# score_type: run c++ main -h to see the available score types\n",
    "# score: the score of the repeat_representation\n",
    "# was_too_long: 1 if the if the input seq was longer than the configured max length, see c++ main -h\n",
    "df.columns = ['seq_name', 'frame', 'repeat_representation', 'score_type', 'score', 'was_too_long']"
   ]
  },
  {
   "cell_type": "code",
   "execution_count": 12,
   "metadata": {},
   "outputs": [],
   "source": [
    "# extract the values from the strings\n",
    "df['frame'] = df['frame'].str.extract(r'frame[:\\s]+(\\d+)', expand=False).astype(int)\n",
    "df['score_type'] = df[\"score_type\"].str.extract(r'score_type[:\\s]+(\\w+)', expand=False)\n",
    "df['score'] = df['score'].str.extract(r'score[:\\s]+(\\d+)', expand=False).astype(int)\n",
    "df['was_too_long'] = df['was_too_long'].str.extract(\n",
    "    r'seqlen too long[:\\s]+(\\w+)', expand=False).astype(int).astype(bool)\n",
    "# creating new columns\n",
    "df[\"no_flanks\"] = df[\"repeat_representation\"].apply(lambda x: x[x.index(\"(\"):x.rfind(\" \")])\n"
   ]
  },
  {
   "cell_type": "code",
   "execution_count": 13,
   "metadata": {},
   "outputs": [],
   "source": [
    "# these are currently not used\n",
    "def color_negative_red(val):\n",
    "    if val < 1:\n",
    "        font_color = 'white'\n",
    "        background_color = 'red'\n",
    "    else:\n",
    "        font_color = 'black'\n",
    "        background_color = 'white'\n",
    "    return 'color: %s; background-color: %s' % (font_color, background_color)\n",
    "\n",
    "\n",
    "def highlight_chars_with_A(text):\n",
    "    styled_text = ''\n",
    "    for char in text:\n",
    "        if char == 'A':\n",
    "            styled_text += '<span style=\"color: white; background-color: red;\">%s</span>' % char\n",
    "        else:\n",
    "            styled_text += char\n",
    "    return styled_text\n",
    "# df.style.applymap(color_negative_red, subset=[\"frame\"])\n",
    "# df['repeat_representation'] = df['repeat_representation'].apply(highlight_chars_with_A)\n"
   ]
  },
  {
   "cell_type": "code",
   "execution_count": 64,
   "metadata": {},
   "outputs": [
    {
     "name": "stdout",
     "output_type": "stream",
     "text": [
      "completely defined\n"
     ]
    }
   ],
   "source": [
    "categories = [[\"(CAG)\", \"TAG\", \"(CAG)\"],\n",
    "              [\"(CAG)\", \"CAA\", \"(CAG)\"]]  # also maybe with numbers as minimum requirements\n",
    "max_interruption_len = 6\n",
    "\n",
    "\n",
    "def seq_conforms_with_category(seq, categories, max_interruption_len):\n",
    "    minimum = float(\"inf\")\n",
    "    maximum = float(\"-inf\")\n",
    "    conforms_to_categories = []\n",
    "    for category in categories:\n",
    "        # find all start and stops, see if all tandem repeats in the string are covered\n",
    "        pattern = (p if p[0] != \"(\" else p.replace(\"(\", \"\\(\").replace(\")\", \"\\)\") + \"\\_\\d+\\s\" for p in category)\n",
    "        pattern = \"(?=(\" + \"\".join(pattern) + \"))\"\n",
    "        matches = re.finditer(pattern, seq)\n",
    "        for hit in matches:\n",
    "            start = hit.start()\n",
    "            end = hit.end() + len(hit.group(1))\n",
    "\n",
    "            if start < minimum:\n",
    "                minimum = start\n",
    "            if end > maximum:\n",
    "                maximum = end\n",
    "            conforms_to_categories.append(category)\n",
    "    if \")\" in seq[:minimum] or \"(\" in seq[maximum:]:\n",
    "        print(\"not completely defined\")\n",
    "    else:\n",
    "        print(\"completely defined\")\n",
    "\n",
    "\n",
    "s = \"AGT(CAG)_3 TAG(CAG)_4 TAG(CAG)_4 CAA(CAG)_2 AGT\"\n",
    "seq_conforms_with_category(s, categories, max_interruption_len)\n",
    "\n",
    "# how to recognize spurious repeats? that are small and far away from the repeat of interest?\n"
   ]
  },
  {
   "cell_type": "code",
   "execution_count": null,
   "metadata": {},
   "outputs": [],
   "source": []
  }
 ],
 "metadata": {
  "kernelspec": {
   "display_name": "venv",
   "language": "python",
   "name": "python3"
  },
  "language_info": {
   "codemirror_mode": {
    "name": "ipython",
    "version": 3
   },
   "file_extension": ".py",
   "mimetype": "text/x-python",
   "name": "python",
   "nbconvert_exporter": "python",
   "pygments_lexer": "ipython3",
   "version": "3.10.12"
  }
 },
 "nbformat": 4,
 "nbformat_minor": 2
}
