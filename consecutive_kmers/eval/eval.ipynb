{
 "cells": [
  {
   "cell_type": "code",
   "execution_count": 7,
   "metadata": {},
   "outputs": [],
   "source": [
    "import pandas as pd\n",
    "import numpy as np\n",
    "import os\n",
    "import glob\n",
    "from eval_methods import *"
   ]
  },
  {
   "cell_type": "code",
   "execution_count": 8,
   "metadata": {},
   "outputs": [],
   "source": [
    "# path to the dir that contains the output files from the cpp_code (filenames must end with .out)\n",
    "dir = '../out'"
   ]
  },
  {
   "cell_type": "code",
   "execution_count": 9,
   "metadata": {},
   "outputs": [],
   "source": [
    "all_files = glob.glob(os.path.join(dir, \"*.out\"))\n",
    "df = pd.concat((pd.read_csv(f, header=None) for f in all_files), ignore_index=True)\n",
    "# seq. name: from the fasta or fastq file\n",
    "# frame: [0, ..., k]\n",
    "# repeat_representation: for example AG(GAC)_4 TGT\n",
    "# score_type: run c++ main -h to see the available score types\n",
    "# score: the score of the repeat_representation\n",
    "# was_too_long: 1 if the if the input seq was longer than the configured max length, see c++ main -h\n",
    "df.columns = ['seq_name', 'frame', 'repeat_representation', 'score_type', 'score', 'was_too_long']"
   ]
  },
  {
   "cell_type": "code",
   "execution_count": 10,
   "metadata": {},
   "outputs": [],
   "source": [
    "# extract the values from the strings\n",
    "df['frame'] = df['frame'].str.extract(r'frame[:\\s]+(\\d+)', expand=False).astype(int)\n",
    "df['score_type'] = df[\"score_type\"].str.extract(r'score_type[:\\s]+(\\w+)', expand=False)\n",
    "df['score'] = df['score'].str.extract(r'score[:\\s]+(\\d+)', expand=False).astype(int)\n",
    "df['was_too_long'] = df['was_too_long'].str.extract(\n",
    "    r'seqlen too long[:\\s]+(\\w+)', expand=False).astype(int).astype(bool)\n",
    "# creating new columns\n",
    "df[\"no_flanks\"] = df[\"repeat_representation\"].apply(lambda x: x[x.index(\"(\"):x.rfind(\" \")+1]) # TODO: maybe dont use the +1 and adapt the pattern in seq_conforms_with_category accordingly\n"
   ]
  },
  {
   "cell_type": "code",
   "execution_count": 11,
   "metadata": {},
   "outputs": [],
   "source": [
    "categories = [[\"(CAG)\", \"TAG\", \"(CAG)\"],\n",
    "              [\"(CAG)\", \"CAA\", \"(CAG)\"],\n",
    "              [\"(CAG)\", \"CCG\", \"(CAG)\"],\n",
    "              [\"(CAG)\", \"CATCAGCAT\", \"(CAG)\"]]  # also maybe with numbers as minimum requirements"
   ]
  },
  {
   "cell_type": "code",
   "execution_count": 12,
   "metadata": {},
   "outputs": [],
   "source": [
    "categories_as_col_names = [\"\".join(c) for c in categories]\n",
    "\n",
    "# TODO how to find seqs that only have a (CAG)_n without interruptions (other than spurious repeats)\n",
    "\n",
    "# how to recognize spurious repeats? that are small and far away from the repeat of interest?\n",
    "max_repeat_len = 3\n",
    "min_distance = 6\n",
    "def f(x): return seq_conforms_with_category(x, categories, lambda seq,\n",
    "                                            neighbour: is_spurious_by_max_repeat_len_and_min_distance(seq, max_repeat_len, min_distance, neighbour))\n",
    "\n",
    "\n",
    "new_cols = df.apply(f, axis=1)\n",
    "new_cols.columns = [\"\".join(c) for c in categories] + [\"completely_defined\"]\n",
    "for column in new_cols.columns:\n",
    "    if column in df.columns:\n",
    "        df[column] = new_cols[column]\n",
    "        del new_cols[column]\n",
    "\n",
    "df = pd.concat([df, new_cols], axis=1)\n"
   ]
  },
  {
   "cell_type": "code",
   "execution_count": 16,
   "metadata": {},
   "outputs": [
    {
     "data": {
      "text/html": [
       "<div>\n",
       "<style scoped>\n",
       "    .dataframe tbody tr th:only-of-type {\n",
       "        vertical-align: middle;\n",
       "    }\n",
       "\n",
       "    .dataframe tbody tr th {\n",
       "        vertical-align: top;\n",
       "    }\n",
       "\n",
       "    .dataframe thead th {\n",
       "        text-align: right;\n",
       "    }\n",
       "</style>\n",
       "<table border=\"1\" class=\"dataframe\">\n",
       "  <thead>\n",
       "    <tr style=\"text-align: right;\">\n",
       "      <th></th>\n",
       "      <th>seq_name</th>\n",
       "      <th>frame</th>\n",
       "      <th>repeat_representation</th>\n",
       "      <th>score_type</th>\n",
       "      <th>score</th>\n",
       "      <th>was_too_long</th>\n",
       "      <th>no_flanks</th>\n",
       "      <th>(CAG)TAG(CAG)</th>\n",
       "      <th>(CAG)CAA(CAG)</th>\n",
       "      <th>(CAG)CCG(CAG)</th>\n",
       "      <th>(CAG)CATCAGCAT(CAG)</th>\n",
       "      <th>completely_defined</th>\n",
       "    </tr>\n",
       "  </thead>\n",
       "  <tbody>\n",
       "    <tr>\n",
       "      <th>13</th>\n",
       "      <td>@SRR23922262.828599.1 828599 length=151</td>\n",
       "      <td>1</td>\n",
       "      <td>G(GCT)_2 CCTGGGTGTAGTGAGATGTCTCCAGCCAGGGCCAAG(CAG)_3 TAG(CAG)_4 TAG(CAG)_4 CAA(CAG)_5 CAA(CAG)_3 CAAAGGGTCTGTGTTGCTAAGAGGCTTTTGGTTTCTTTC</td>\n",
       "      <td>CAG</td>\n",
       "      <td>15</td>\n",
       "      <td>False</td>\n",
       "      <td>(GCT)_2 CCTGGGTGTAGTGAGATGTCTCCAGCCAGGGCCAAG(CAG)_3 TAG(CAG)_4 TAG(CAG)_4 CAA(CAG)_5 CAA(CAG)_3</td>\n",
       "      <td>1</td>\n",
       "      <td>1</td>\n",
       "      <td>0</td>\n",
       "      <td>0</td>\n",
       "      <td>True</td>\n",
       "    </tr>\n",
       "    <tr>\n",
       "      <th>235</th>\n",
       "      <td>@SRR23922262.15732653.2 15732653 length=151</td>\n",
       "      <td>0</td>\n",
       "      <td>CCTGGGTGTAGTGAGATGTCTCCAGCCAGGGCCAAG(CAG)_3 TAG(CAG)_4 TAG(CAG)_4 CAA(CAG)_5 CAA(CAG)_3 CAAAGGGTCTGTGTTGCTAAGAGGCTTTTGGTTTCTTTCCCTCCAC</td>\n",
       "      <td>CAG</td>\n",
       "      <td>15</td>\n",
       "      <td>False</td>\n",
       "      <td>(CAG)_3 TAG(CAG)_4 TAG(CAG)_4 CAA(CAG)_5 CAA(CAG)_3</td>\n",
       "      <td>1</td>\n",
       "      <td>1</td>\n",
       "      <td>0</td>\n",
       "      <td>0</td>\n",
       "      <td>True</td>\n",
       "    </tr>\n",
       "  </tbody>\n",
       "</table>\n",
       "</div>"
      ],
      "text/plain": [
       "                                        seq_name  frame   \n",
       "13       @SRR23922262.828599.1 828599 length=151      1  \\\n",
       "235  @SRR23922262.15732653.2 15732653 length=151      0   \n",
       "\n",
       "                                                                                                                         repeat_representation   \n",
       "13    G(GCT)_2 CCTGGGTGTAGTGAGATGTCTCCAGCCAGGGCCAAG(CAG)_3 TAG(CAG)_4 TAG(CAG)_4 CAA(CAG)_5 CAA(CAG)_3 CAAAGGGTCTGTGTTGCTAAGAGGCTTTTGGTTTCTTTC  \\\n",
       "235     CCTGGGTGTAGTGAGATGTCTCCAGCCAGGGCCAAG(CAG)_3 TAG(CAG)_4 TAG(CAG)_4 CAA(CAG)_5 CAA(CAG)_3 CAAAGGGTCTGTGTTGCTAAGAGGCTTTTGGTTTCTTTCCCTCCAC   \n",
       "\n",
       "    score_type  score  was_too_long   \n",
       "13         CAG     15         False  \\\n",
       "235        CAG     15         False   \n",
       "\n",
       "                                                                                            no_flanks   \n",
       "13   (GCT)_2 CCTGGGTGTAGTGAGATGTCTCCAGCCAGGGCCAAG(CAG)_3 TAG(CAG)_4 TAG(CAG)_4 CAA(CAG)_5 CAA(CAG)_3   \\\n",
       "235                                              (CAG)_3 TAG(CAG)_4 TAG(CAG)_4 CAA(CAG)_5 CAA(CAG)_3    \n",
       "\n",
       "     (CAG)TAG(CAG)  (CAG)CAA(CAG)  (CAG)CCG(CAG)  (CAG)CATCAGCAT(CAG)   \n",
       "13               1              1              0                    0  \\\n",
       "235              1              1              0                    0   \n",
       "\n",
       "     completely_defined  \n",
       "13                 True  \n",
       "235                True  "
      ]
     },
     "execution_count": 16,
     "metadata": {},
     "output_type": "execute_result"
    }
   ],
   "source": [
    "pd.set_option('display.max_colwidth', None)\n",
    "# df[[\"no_flanks\", \"completely_defined\", *categories_as_col_names]][(df[\"(CAG)TAG(CAG)\"]==1) & (df[\"(CAG)CAA(CAG)\"]==1)]\n",
    "df[(df[\"(CAG)TAG(CAG)\"]==1) & (df[\"(CAG)CAA(CAG)\"]==1)]"
   ]
  },
  {
   "cell_type": "code",
   "execution_count": 17,
   "metadata": {},
   "outputs": [
    {
     "name": "stdout",
     "output_type": "stream",
     "text": [
      "from all 240 samples 55 were categorizes completely\n"
     ]
    }
   ],
   "source": [
    "print(f\"from all {len(df)} samples {len(df[df['completely_defined']==1])} were categorizes completely\")"
   ]
  },
  {
   "cell_type": "code",
   "execution_count": 18,
   "metadata": {},
   "outputs": [
    {
     "data": {
      "text/plain": [
       "0                                                      (CAG)_2 CCA(CAG)_4 CAA(CAG)_3 CCG(CAG)_4 CCA(CAG)_3 CCG(CAG)_4 CCA(CAG)_3 \n",
       "1                                                                     (AAG)_2 CAGCTTGAG(CAG)_5 CAA(CAG)_3 CAA(CAG)_10 ACA(GAA)_2 \n",
       "7                                                                     (AAG)_2 CAGCTTGAG(CAG)_5 CAA(CAG)_3 CAA(CAG)_11 ACA(GAA)_2 \n",
       "8                                                                                                   (CAC)_2 CAGCAACAGCAA(CAG)_19 \n",
       "10                                             (CAG)_19 CATCACGGAAACTCTGGGCCC(CCT)_3 GGAGCATTTCCCCACCCACTGGAGGGCGGTAGCTCC(CAC)_2 \n",
       "11                                                  (CAG)_5 CAA(CAG)_3 CAA(CAG)_10 ACA(GAA)_2 TGGACAGAAGATCACTCAGCCCTTGTG(CCT)_2 \n",
       "12                                                                     (CAC)_2 CAGCAACAGCAA(CAG)_19 CATCACGGAAACTCTGGGCCC(CCT)_3 \n",
       "14                           (CAG)_2 (CAA)_2 (CAG)_14 CCCATGCCCCGC(AGC)_2 CAG(GAG)_2 AAAGATGAGAAGGAGAAGGAAAAGGAGGCGGAGAAG(GAG)_3 \n",
       "15                                                                           (CAA)_2 AGG(CAG)_3 (CAA)_4 (CAG)_8 CAACAGCAA(CAG)_7 \n",
       "16                                                                     (CAC)_2 CAGCAACAGCAA(CAG)_19 CATCACGGAAACTCTGGGCCC(CCT)_3 \n",
       "17                     (AAT)_3 GCCAAGCGAGCTACAGCCAACAAT(CAG)_2 CCA(CAG)_4 CAA(CAG)_3 CCG(CAG)_4 CCA(CAG)_3 CCG(CAG)_4 CCA(CAG)_3 \n",
       "18                                                    (AGG)_2 GGACCCTAATAGGAGTATTCATAC(CAG)_8 TAG(CAG)_10 TAG(CAG)_10 AAG(CAG)_2 \n",
       "20    (TAC)_2 CTGACT(AAG)_2 AATGAGAACTATAAGAGCCTGGTGAGACGGAGCTATCGG(CGC)_2 GGCAAGAGC(CAG)_2 (CAA)_2 (CAG)_13 CCCATGCCCCGC(AGC)_2 \n",
       "21                                               (CAG)_3 (CAA)_2 (CAG)_6 AAG(CAG)_5 CAC(CAG)_3 CAA(CAG)_4 CAACAGACGACTACG(ACA)_2 \n",
       "22                                           (CCA)_2 GTCTCAACACATCACCAT(CAC)_2 CAGCAACAGCAA(CAG)_19 CATCACGGAAACACTGGGCCC(CCT)_3 \n",
       "25                                                                    (AAG)_2 CAGCTTGAG(CAG)_5 CAA(CAG)_3 CAA(CAG)_10 ACA(GAA)_2 \n",
       "26                                 (AAG)_2 CAGCTTGAG(CAG)_4 CAA(CAG)_3 CAA(CAG)_11 ACA(GAA)_2 TGGACAGAAGATCACTCAGCCCTTGTG(CCT)_2 \n",
       "28                                         (CAG)_4 CAA(CAG)_3 CCG(CAG)_7 CAA(CAG)_3 CCG(CAG)_4 CCA(CAG)_3 CCACAGCCGCAGCCG(CAG)_3 \n",
       "29                                                                (CAG)_2 (CAA)_2 AGGGCCAAACTCATG(CAG)_2 AAACAGCAACAGCAA(CAG)_19 \n",
       "30                                                     (CAG)_2 CCA(CAG)_4 CAA(CAG)_3 CCG(CAG)_4 CCA(CAG)_3 CCG(CAG)_4 CCA(CAG)_3 \n",
       "Name: no_flanks, dtype: object"
      ]
     },
     "execution_count": 18,
     "metadata": {},
     "output_type": "execute_result"
    }
   ],
   "source": [
    "df[df[\"completely_defined\"]==0][\"no_flanks\"][0:20]"
   ]
  },
  {
   "cell_type": "code",
   "execution_count": 19,
   "metadata": {},
   "outputs": [
    {
     "data": {
      "text/plain": [
       "2                                                                                (CAG)_12 CATCAGCAT(CAG)_14 \n",
       "24                                                                               (CAG)_12 CATCAGCAT(CAG)_14 \n",
       "89     (GCT)_3 CAGCCTTGTGTCCCGGCGTCTGGCTCAGACTGCCCATGTTGGCCAGCAGAGTGGAATAGGCCTGAG(CAG)_12 CATCAGCAT(CAG)_10 \n",
       "134                         (CTG)_2 GCCAACATGGGCAGTCTGAGCCAGACGCCGGGACACAAGGCTGAG(CAG)_12 CATCAGCAT(CAG)_15 \n",
       "185                         (CTG)_2 GCCAACATGGGCAGTCTGAGCCAGACGCCGGGACACAAGGCTGAG(CAG)_12 CATCAGCAT(CAG)_11 \n",
       "187                                                                              (CAG)_12 CATCAGCAT(CAG)_14 \n",
       "197                                                                              (CAG)_12 CATCAGCAT(CAG)_14 \n",
       "232                                                 (CAG)_12 CATCAGCAT(CAG)_14 CACCTCAGCAGGGCTCCGGGG(CTC)_2 \n",
       "Name: no_flanks, dtype: object"
      ]
     },
     "execution_count": 19,
     "metadata": {},
     "output_type": "execute_result"
    }
   ],
   "source": [
    "df[(df[\"completely_defined\"]==1) & (df[\"(CAG)CATCAGCAT(CAG)\"]==1)][\"no_flanks\"]"
   ]
  },
  {
   "cell_type": "code",
   "execution_count": null,
   "metadata": {},
   "outputs": [],
   "source": []
  }
 ],
 "metadata": {
  "kernelspec": {
   "display_name": "venv",
   "language": "python",
   "name": "python3"
  },
  "language_info": {
   "codemirror_mode": {
    "name": "ipython",
    "version": 3
   },
   "file_extension": ".py",
   "mimetype": "text/x-python",
   "name": "python",
   "nbconvert_exporter": "python",
   "pygments_lexer": "ipython3",
   "version": "3.10.12"
  }
 },
 "nbformat": 4,
 "nbformat_minor": 2
}
