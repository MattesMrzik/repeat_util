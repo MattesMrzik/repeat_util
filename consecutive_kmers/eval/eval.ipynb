{
 "cells": [
  {
   "cell_type": "markdown",
   "metadata": {},
   "source": [
    "# Evaluating the consecutive k-mers c++ program output"
   ]
  },
  {
   "cell_type": "code",
   "execution_count": 10,
   "metadata": {},
   "outputs": [],
   "source": [
    "import pandas as pd\n",
    "import numpy as np\n",
    "import os\n",
    "import glob\n",
    "from eval_methods import *\n"
   ]
  },
  {
   "cell_type": "markdown",
   "metadata": {},
   "source": [
    "## Reading the Data\n",
    "Reading the data from the c++ program output into a pandas data frame."
   ]
  },
  {
   "cell_type": "code",
   "execution_count": 11,
   "metadata": {},
   "outputs": [],
   "source": [
    "# path to the dir that contains the output files from the cpp_code (filenames must end with .out)\n",
    "# for example from the run: ./main -t 5 -i SRR23922262.fastq -s CAG\n",
    "dir = '../out'\n",
    "dir = '/home/mattes/Seafile/Meine_Bibliothek/SickKids/repeat_util/consecutive_kmers/cpp_code/'\n"
   ]
  },
  {
   "cell_type": "code",
   "execution_count": 12,
   "metadata": {},
   "outputs": [],
   "source": [
    "all_files = glob.glob(os.path.join(dir, \"*.out\"))\n",
    "df = pd.concat((pd.read_csv(f, header=None) for f in all_files), ignore_index=True)\n",
    "# seq. name: from the fasta or fastq file\n",
    "# frame: [0, ..., k]\n",
    "# repeat_representation: for example AG(GAC)_4 TGT\n",
    "# score_type: run c++ main -h to see the available score types\n",
    "# score: the score of the repeat_representation\n",
    "# was_too_long: 1 if the if the input seq was longer than the configured max length, see c++ main -h\n",
    "df.columns = ['seq_name', 'frame', 'repeat_representation', 'score_type', 'score', 'was_too_long']\n"
   ]
  },
  {
   "cell_type": "code",
   "execution_count": 13,
   "metadata": {},
   "outputs": [],
   "source": [
    "# extract the values from the strings\n",
    "df['frame'] = df['frame'].str.extract(r'frame[:\\s]+(\\d+)', expand=False).astype(int)\n",
    "df['score_type'] = df[\"score_type\"].str.extract(r'score_type[:\\s]+(\\w+)', expand=False)\n",
    "df['score'] = df['score'].str.extract(r'score[:\\s]+(\\d+)', expand=False).astype(int)\n",
    "df['was_too_long'] = df['was_too_long'].str.extract(\n",
    "    r'seqlen too long[:\\s]+(\\w+)', expand=False).astype(int).astype(bool)\n",
    "# creating new columns\n",
    "# TODO: maybe dont use the +1 and adapt the pattern in seq_conforms_with_category accordingly\n",
    "df[\"no_flanks\"] = df[\"repeat_representation\"].apply(lambda x: x[x.index(\"(\"):x.rfind(\" \")+1])\n"
   ]
  },
  {
   "cell_type": "markdown",
   "metadata": {},
   "source": [
    "## Grouping repeats into categories\n",
    "Sine there are many repeats detected we want to categorize them. For this you can add categories to the list below. This\n",
    "is a tow dimensional list. Every repeat category is a list of strings. For example (dropping \"): `[(CAG), TAG, (CAG)]`\n",
    "will add every sequence to this category if it contains a substring of this form `(CAG)_n TAG(CAG)_m`. When calling the\n",
    "method `seq_conforms_with_category` to calculate the categories one can also pass a function that filters spurious\n",
    "repeats. For example there might be the sequence `AAA(TTT)_2 ACGTAACCGGTT(GAC)_12 `, where the `(TTT)_2` repeat is probably\n",
    "spurious and should be ignored. Here the method `is_spurious_by_max_repeat_len_and_min_distance` is applied. If all non\n",
    "spurious repeats of a sequence are categorized and not in close proximity (separated by some minimum distance and therefore regarded\n",
    "as independent) the sequence is flagged as `completely_defined`."
   ]
  },
  {
   "cell_type": "code",
   "execution_count": 14,
   "metadata": {},
   "outputs": [],
   "source": [
    "categories = [[\"(CAG)\", \"TAG\", \"(CAG)\"],\n",
    "              [\"(CAG)\", \"CAA\", \"(CAG)\"],\n",
    "              [\"(CAG)\", \"CCG\", \"(CAG)\"],\n",
    "              [\"(CAG)\", \"CATCAGCAT\", \"(CAG)\"],\n",
    "              [\"(CAG)\"],\n",
    "              [\"(CAG)\", \"(CAA)\"]]\n",
    "# TODO also maybe with numbers as minimum requirements\n"
   ]
  },
  {
   "cell_type": "code",
   "execution_count": 15,
   "metadata": {},
   "outputs": [],
   "source": [
    "max_repeat_len = 3\n",
    "min_distance = 6\n",
    "\n",
    "\n",
    "def f(x): return seq_conforms_with_category(x, categories, lambda seq,\n",
    "                                            neighbour: is_spurious_by_max_repeat_len_and_min_distance(seq,\n",
    "                                                                                                      max_repeat_len,\n",
    "                                                                                                      min_distance,\n",
    "                                                                                                      neighbour))\n",
    "\n",
    "\n",
    "new_cols = df.apply(f, axis=1)\n",
    "new_cols.columns = [\"\".join(c) for c in categories] + [\"completely_defined\"]\n",
    "# deleting previously contained columns to avoid duplicates when concatenating\n",
    "for column in new_cols.columns:\n",
    "    if column in df.columns:\n",
    "        df[column] = new_cols[column]\n",
    "        del new_cols[column]\n",
    "\n",
    "df = pd.concat([df, new_cols], axis=1)\n"
   ]
  },
  {
   "cell_type": "markdown",
   "metadata": {},
   "source": [
    "## Viewing the data\n",
    "Here you can have a look at the categorized data. If you still see some sequences for which the column\n",
    "`completely_defined` is `False` consider adding new categories."
   ]
  },
  {
   "cell_type": "code",
   "execution_count": 16,
   "metadata": {},
   "outputs": [
    {
     "name": "stdout",
     "output_type": "stream",
     "text": [
      "From all 23 samples 11 were categorizes completely\n"
     ]
    },
    {
     "data": {
      "text/html": [
       "<div>\n",
       "<style scoped>\n",
       "    .dataframe tbody tr th:only-of-type {\n",
       "        vertical-align: middle;\n",
       "    }\n",
       "\n",
       "    .dataframe tbody tr th {\n",
       "        vertical-align: top;\n",
       "    }\n",
       "\n",
       "    .dataframe thead th {\n",
       "        text-align: right;\n",
       "    }\n",
       "</style>\n",
       "<table border=\"1\" class=\"dataframe\">\n",
       "  <thead>\n",
       "    <tr style=\"text-align: right;\">\n",
       "      <th></th>\n",
       "      <th>seq_name</th>\n",
       "      <th>frame</th>\n",
       "      <th>repeat_representation</th>\n",
       "      <th>score_type</th>\n",
       "      <th>score</th>\n",
       "      <th>was_too_long</th>\n",
       "      <th>no_flanks</th>\n",
       "      <th>(CAG)TAG(CAG)</th>\n",
       "      <th>(CAG)CAA(CAG)</th>\n",
       "      <th>(CAG)CCG(CAG)</th>\n",
       "      <th>(CAG)CATCAGCAT(CAG)</th>\n",
       "      <th>(CAG)</th>\n",
       "      <th>(CAG)(CAA)</th>\n",
       "      <th>completely_defined</th>\n",
       "    </tr>\n",
       "  </thead>\n",
       "  <tbody>\n",
       "    <tr>\n",
       "      <th>0</th>\n",
       "      <td>@M03851:785:000000000-DCFPT:1:1102:21402:2730 1:N:0:GAGATTCC+CAGGACGT</td>\n",
       "      <td>1</td>\n",
       "      <td>CTGCGACCCTGGAAAAGCTGATGAGCCGTGTAGATCTCGGTGGTCGCCGTATCATTGCAGGCACAGCCGCTGCTGATCGGAAGAGCACACGTCTGAACTCCAGTCACGAGATTCCATCTCGTATGCCGTCTTCTGCTTG(AAA)_4 (GAC)_2 TCG</td>\n",
       "      <td>GAC</td>\n",
       "      <td>2</td>\n",
       "      <td>True</td>\n",
       "      <td>(AAA)_4 (GAC)_2</td>\n",
       "      <td>0</td>\n",
       "      <td>0</td>\n",
       "      <td>0</td>\n",
       "      <td>0</td>\n",
       "      <td>0</td>\n",
       "      <td>0</td>\n",
       "      <td>False</td>\n",
       "    </tr>\n",
       "    <tr>\n",
       "      <th>1</th>\n",
       "      <td>@M03851:785:000000000-DCFPT:1:1102:12966:5040 1:N:0:GAGATTCC+CAGGACGT</td>\n",
       "      <td>0</td>\n",
       "      <td>CTGCGACCCTGGAAAAGC(TGA)_2 GCCGTGTAGATCTCGGTGGTCGCCGTATCATTGCAGGCACAGCCG(CTG)_2 ATCGGAAGAGACACGTCTGAACTCCAGTCACGAGATTCCATCTCGTATGCCGTCTTCTGCTTG(AAA)_4 TCC(GAC)_2 G</td>\n",
       "      <td>GAC</td>\n",
       "      <td>2</td>\n",
       "      <td>True</td>\n",
       "      <td>(TGA)_2 GCCGTGTAGATCTCGGTGGTCGCCGTATCATTGCAGGCACAGCCG(CTG)_2 ATCGGAAGAGACACGTCTGAACTCCAGTCACGAGATTCCATCTCGTATGCCGTCTTCTGCTTG(AAA)_4 TCC(GAC)_2</td>\n",
       "      <td>0</td>\n",
       "      <td>0</td>\n",
       "      <td>0</td>\n",
       "      <td>0</td>\n",
       "      <td>0</td>\n",
       "      <td>0</td>\n",
       "      <td>False</td>\n",
       "    </tr>\n",
       "    <tr>\n",
       "      <th>2</th>\n",
       "      <td>@M03851:785:000000000-DCFPT:1:1102:24952:6651 1:N:0:GAGATTCC+CAGGACGT</td>\n",
       "      <td>2</td>\n",
       "      <td>CTGCGACCCTGGAAAAGCTGATGAGAGCCGTGTAGATCTCGGTGGTCGCCGTATCATTGCAGGCACAGCCG(CTG)_2 ATCGGAAGAGCACACGTCTGAACTCCAGTCACGAGATTCCATCTCGTATGCCGTCTTCTGCTTGAA(AAA)_3 (GAC)_2 GA</td>\n",
       "      <td>GAC</td>\n",
       "      <td>2</td>\n",
       "      <td>True</td>\n",
       "      <td>(CTG)_2 ATCGGAAGAGCACACGTCTGAACTCCAGTCACGAGATTCCATCTCGTATGCCGTCTTCTGCTTGAA(AAA)_3 (GAC)_2</td>\n",
       "      <td>0</td>\n",
       "      <td>0</td>\n",
       "      <td>0</td>\n",
       "      <td>0</td>\n",
       "      <td>0</td>\n",
       "      <td>0</td>\n",
       "      <td>True</td>\n",
       "    </tr>\n",
       "    <tr>\n",
       "      <th>3</th>\n",
       "      <td>@M03851:785:000000000-DCFPT:1:1102:13973:13718 1:N:0:GAGATTCC+CAGGACGG</td>\n",
       "      <td>1</td>\n",
       "      <td>CTGCGACCCTGGAAAAGCTGATGAGCCGTGTAGATCTCGGTGGTCGCCGTATCATTGGCACAGCCGCTGCTGATCGGAAGAGCACACGTCTGAACTCCAGTCACGAGATTCCATCTCGTATGCCGTCTTCTGCTTG(AAA)_4 (GAC)_2 ACTTGG</td>\n",
       "      <td>GAC</td>\n",
       "      <td>2</td>\n",
       "      <td>True</td>\n",
       "      <td>(AAA)_4 (GAC)_2</td>\n",
       "      <td>0</td>\n",
       "      <td>0</td>\n",
       "      <td>0</td>\n",
       "      <td>0</td>\n",
       "      <td>0</td>\n",
       "      <td>0</td>\n",
       "      <td>False</td>\n",
       "    </tr>\n",
       "    <tr>\n",
       "      <th>4</th>\n",
       "      <td>@M03851:785:000000000-DCFPT:1:1102:8419:14652 1:N:0:GAGATTCC+CAGGACGT</td>\n",
       "      <td>2</td>\n",
       "      <td>CTGCGACCCTGGAAAAGCTGCCCATGGCGTGCGAGTTGGTCAGTCTGGTGGCAGCG(GAC)_2 ACGTGCACCAGGCCT(GCG)_2 GCCGGCACAGAGCTGAACAGCGACTGCAGCACG(GAG)_2 CCGGCCACGGAGCCGAGGTTGGCCTGCAGGGACATGGG</td>\n",
       "      <td>GAC</td>\n",
       "      <td>2</td>\n",
       "      <td>True</td>\n",
       "      <td>(GAC)_2 ACGTGCACCAGGCCT(GCG)_2 GCCGGCACAGAGCTGAACAGCGACTGCAGCACG(GAG)_2</td>\n",
       "      <td>0</td>\n",
       "      <td>0</td>\n",
       "      <td>0</td>\n",
       "      <td>0</td>\n",
       "      <td>0</td>\n",
       "      <td>0</td>\n",
       "      <td>True</td>\n",
       "    </tr>\n",
       "  </tbody>\n",
       "</table>\n",
       "</div>"
      ],
      "text/plain": [
       "                                                                 seq_name   \n",
       "0   @M03851:785:000000000-DCFPT:1:1102:21402:2730 1:N:0:GAGATTCC+CAGGACGT  \\\n",
       "1   @M03851:785:000000000-DCFPT:1:1102:12966:5040 1:N:0:GAGATTCC+CAGGACGT   \n",
       "2   @M03851:785:000000000-DCFPT:1:1102:24952:6651 1:N:0:GAGATTCC+CAGGACGT   \n",
       "3  @M03851:785:000000000-DCFPT:1:1102:13973:13718 1:N:0:GAGATTCC+CAGGACGG   \n",
       "4   @M03851:785:000000000-DCFPT:1:1102:8419:14652 1:N:0:GAGATTCC+CAGGACGT   \n",
       "\n",
       "   frame   \n",
       "0      1  \\\n",
       "1      0   \n",
       "2      2   \n",
       "3      1   \n",
       "4      2   \n",
       "\n",
       "                                                                                                                                                     repeat_representation   \n",
       "0           CTGCGACCCTGGAAAAGCTGATGAGCCGTGTAGATCTCGGTGGTCGCCGTATCATTGCAGGCACAGCCGCTGCTGATCGGAAGAGCACACGTCTGAACTCCAGTCACGAGATTCCATCTCGTATGCCGTCTTCTGCTTG(AAA)_4 (GAC)_2 TCG  \\\n",
       "1       CTGCGACCCTGGAAAAGC(TGA)_2 GCCGTGTAGATCTCGGTGGTCGCCGTATCATTGCAGGCACAGCCG(CTG)_2 ATCGGAAGAGACACGTCTGAACTCCAGTCACGAGATTCCATCTCGTATGCCGTCTTCTGCTTG(AAA)_4 TCC(GAC)_2 G   \n",
       "2      CTGCGACCCTGGAAAAGCTGATGAGAGCCGTGTAGATCTCGGTGGTCGCCGTATCATTGCAGGCACAGCCG(CTG)_2 ATCGGAAGAGCACACGTCTGAACTCCAGTCACGAGATTCCATCTCGTATGCCGTCTTCTGCTTGAA(AAA)_3 (GAC)_2 GA   \n",
       "3           CTGCGACCCTGGAAAAGCTGATGAGCCGTGTAGATCTCGGTGGTCGCCGTATCATTGGCACAGCCGCTGCTGATCGGAAGAGCACACGTCTGAACTCCAGTCACGAGATTCCATCTCGTATGCCGTCTTCTGCTTG(AAA)_4 (GAC)_2 ACTTGG   \n",
       "4   CTGCGACCCTGGAAAAGCTGCCCATGGCGTGCGAGTTGGTCAGTCTGGTGGCAGCG(GAC)_2 ACGTGCACCAGGCCT(GCG)_2 GCCGGCACAGAGCTGAACAGCGACTGCAGCACG(GAG)_2 CCGGCCACGGAGCCGAGGTTGGCCTGCAGGGACATGGG   \n",
       "\n",
       "  score_type  score  was_too_long   \n",
       "0        GAC      2          True  \\\n",
       "1        GAC      2          True   \n",
       "2        GAC      2          True   \n",
       "3        GAC      2          True   \n",
       "4        GAC      2          True   \n",
       "\n",
       "                                                                                                                                         no_flanks   \n",
       "0                                                                                                                                 (AAA)_4 (GAC)_2   \\\n",
       "1  (TGA)_2 GCCGTGTAGATCTCGGTGGTCGCCGTATCATTGCAGGCACAGCCG(CTG)_2 ATCGGAAGAGACACGTCTGAACTCCAGTCACGAGATTCCATCTCGTATGCCGTCTTCTGCTTG(AAA)_4 TCC(GAC)_2    \n",
       "2                                                       (CTG)_2 ATCGGAAGAGCACACGTCTGAACTCCAGTCACGAGATTCCATCTCGTATGCCGTCTTCTGCTTGAA(AAA)_3 (GAC)_2    \n",
       "3                                                                                                                                 (AAA)_4 (GAC)_2    \n",
       "4                                                                         (GAC)_2 ACGTGCACCAGGCCT(GCG)_2 GCCGGCACAGAGCTGAACAGCGACTGCAGCACG(GAG)_2    \n",
       "\n",
       "   (CAG)TAG(CAG)  (CAG)CAA(CAG)  (CAG)CCG(CAG)  (CAG)CATCAGCAT(CAG)  (CAG)   \n",
       "0              0              0              0                    0      0  \\\n",
       "1              0              0              0                    0      0   \n",
       "2              0              0              0                    0      0   \n",
       "3              0              0              0                    0      0   \n",
       "4              0              0              0                    0      0   \n",
       "\n",
       "   (CAG)(CAA)  completely_defined  \n",
       "0           0               False  \n",
       "1           0               False  \n",
       "2           0                True  \n",
       "3           0               False  \n",
       "4           0                True  "
      ]
     },
     "execution_count": 16,
     "metadata": {},
     "output_type": "execute_result"
    }
   ],
   "source": [
    "pd.set_option('display.max_colwidth', None)\n",
    "print(f\"From all {len(df)} samples {len(df[df['completely_defined']==1])} were categorizes completely\")\n",
    "df[:5]\n"
   ]
  },
  {
   "cell_type": "markdown",
   "metadata": {},
   "source": [
    "Look at the `m` most scoring sequences which are not yet completely categorized."
   ]
  },
  {
   "cell_type": "code",
   "execution_count": 19,
   "metadata": {},
   "outputs": [
    {
     "name": "stdout",
     "output_type": "stream",
     "text": [
      " CGATGCGACCCTGGAAAAGCTGATGAGAGCCGTGTAGATCTCGGTGGTCGCCGTATCATTGCAGGCACAGCCGCTGCTTAGATCGGAAGAGCACACGTCTGAACTCCAGTCAACTGAAGCTATCTCGTATGCCGTCTTCTGCTTG\u001b[1;31;43mAAAAAAAAA\u001b[0m\u001b[1;30;41mGACGAC\u001b[0m \\n\n",
      " CTGCGACCCTGGAAAAGC\u001b[1;32;47mTGATGA\u001b[0mGCCGTGTAGATCTCGGTGGTCGCCGTATCATTGCAGGCACAGCCG\u001b[1;33;45mCTGCTG\u001b[0mATCGGAAGAGACACGTCTGAACTCCAGTCACGAGATTCCATCTCGTATGCCGTCTTCTGCTTG\u001b[1;31;43mAAAAAAAAAAAA\u001b[0mTCC\u001b[1;30;41mGACGAC\u001b[0mG \\n\n",
      " CTGCGACCCTGGAAAAGCTCAAGCA\u001b[1;30;41mGACGAC\u001b[0mGGCACCCCC\u001b[1;35;41mGCTGCT\u001b[0mGATCGGAAGAGCACACGTCTGAACTCCAGTCACGAGGTTCCATCTCGTATGCCG\u001b[1;35;45mTCTTCT\u001b[0mGCTTGAACC\u001b[1;31;42mGCCGCCGCCGCC\u001b[0mACC\u001b[1;31;42mGCCGCC\u001b[0mTCCTCAGCTTCCTCA\u001b[1;31;42mGCCGCCGCC\u001b[0m \\n\n",
      " CTGCGACCCTGGAAAAGCTCAAGCA\u001b[1;30;41mGACGAC\u001b[0mGGCACCTCC\u001b[1;35;41mGCTGCT\u001b[0mGATCGGAAGAGCACACGTCTGAACTCCAGTCACGAGATTCCATCTCGTATGCCG\u001b[1;35;45mTCTTCT\u001b[0mGCTTGA\u001b[1;31;43mAAAAAAAAAAAAAAA\u001b[0mATATAAAGAAACAATTTTAACAAGATTCTCACA \\n\n",
      " CTGCGACCCTGGAAAAGCTGATGAAGGCCTTCGAGTCCCTCAAGTCCTTCCA\u001b[1;32;41mGCAGCAGCAGCAGCAGCAGCAGCAGCAGCAGCAGCAGCAGCAGCAGCA\u001b[0mACA\u001b[1;31;42mGCCGCC\u001b[0mACC\u001b[1;32;41mGCAGCA\u001b[0mACAGCA\u001b[1;35;41mGCTGCT\u001b[0mTCTATCGGAAGAGCA\u001b[1;30;41mGACGAC\u001b[0mTGAACTACA \\n\n",
      " CTGCGACCCTGGAAAAGCTGATGAAGGCCTTCGAGTCCCTCAAGTCCTTCCA\u001b[1;32;41mGCAGCAGCAGCAGCAGCAGCAGCAGCAGCAGCAGCAGCAGCAGCAGCAGCA\u001b[0mACAGAAGCCACC\u001b[1;32;41mGCAGCA\u001b[0mGCC\u001b[1;36;45mGAAGAAGAA\u001b[0mGGAGACTCAGCT\u001b[1;36;45mGAAGAA\u001b[0m\u001b[1;30;41mGACGAC\u001b[0mGCC \\n\n",
      " CTGCGACCCTGGAAAAGCTGATGAGCCGTGTAGATCTCGGTGGTCGCCGTATCATTGCAGGCACAGCCGCTGCTGATCGGAAGAGCACACGTCTGAACTCCAGTCACGAGATTCCATCTCGTATGCCGTCTTCTGCTTG\u001b[1;31;43mAAAAAAAAAAAA\u001b[0m\u001b[1;30;41mGACGAC\u001b[0mTCG \\n\n",
      " CTGCGACCCTGGAAAAGCTGATGAGCCGTGTAGATCTCGGTGGTCGCCGTATCATTGGCACAGCCGCTGCTGATCGGAAGAGCACACGTCTGAACTCCAGTCACGAGATTCCATCTCGTATGCCGTCTTCTGCTTG\u001b[1;31;43mAAAAAAAAAAAA\u001b[0m\u001b[1;30;41mGACGAC\u001b[0mACTTGG \\n\n",
      " CTGCGACCCTGGAAAAGCTGCTGATCGGAAGAGCACACGTCTGAACTCCAGTCACGAGATTCCATCTCGTATGCCGTCTTCTGCTTG\u001b[1;31;43mAAAAAAAAAAAAAAA\u001b[0mTAATTAAATTATTCA\u001b[1;34;41mTTTTTT\u001b[0mTTATTTAAA\u001b[1;30;40mTATTAT\u001b[0mCCATGTATTACATAT\u001b[1;30;41mGACGAC\u001b[0mG \\n\n",
      " CTGCGACCCTGGAAAAGCTGCTGATCGGAAGAGCACCCGTCTGAACTCCAGTCACGAGATTCCATCTCGTATGCCGTCTTCTGCTTG\u001b[1;31;43mAAAAAAAAAAAA\u001b[0m\u001b[1;33;46mACAACA\u001b[0m\u001b[1;30;41mGACGAC\u001b[0mACC\u001b[1;31;42mGCCGCCGCCGCCGCCGCCGCC\u001b[0m\u001b[1;33;40mTCATCA\u001b[0mTCTTCCGCAACC\u001b[1;31;42mGCCGCC\u001b[0mG \\n\n",
      " CTGCGACCCTGGAAAAGCTGATGAAGGCCTTCGAGTCCCTCAAGTCCTTCCA\u001b[1;32;41mGCAGCA\u001b[0mGAA\u001b[1;32;41mGCAGCAGCAGCAGCAGCAGCAGCAGCAGCA\u001b[0m\u001b[1;36;45mGAAGAAGAAGAA\u001b[0mAAA\u001b[1;30;41mGACGAC\u001b[0mACC\u001b[1;31;42mGCCGCC\u001b[0mGCG\u001b[1;31;42mGCCGCC\u001b[0m\u001b[1;30;44mGCGGCG\u001b[0mTACTCAGAGTACTCA\u001b[1;30;41mGACGACGAC\u001b[0m \\n\n"
     ]
    }
   ],
   "source": [
    "m = -1 # -1 to show almost all seqs. Adjust to positive integer to show smaller subset\n",
    "sorted_by_score = df.sort_values([\"score\", \"repeat_representation\"])\n",
    "sorted_by_score = sorted_by_score[sorted_by_score[\"completely_defined\"] == False][\"repeat_representation\"][-m:]\n",
    "color = Color_print_triplets()\n",
    "for seq in list(sorted_by_score):\n",
    "    print(color.color_triplets(seq, expand=True), \"\\\\n\")\n"
   ]
  },
  {
   "cell_type": "markdown",
   "metadata": {},
   "source": [
    "Inspect all sequences for a category:"
   ]
  },
  {
   "cell_type": "code",
   "execution_count": 18,
   "metadata": {},
   "outputs": [
    {
     "name": "stdout",
     "output_type": "stream",
     "text": [
      "0 sequences were categorized as (CAG)TAG(CAG):\n",
      "Empty DataFrame\n",
      "Columns: [no_flanks]\n",
      "Index: []\n"
     ]
    }
   ],
   "source": [
    "category = \"(CAG)TAG(CAG)\"\n",
    "\n",
    "df_of_category = df[(df[\"completely_defined\"] == 1) & (df[category] == 1)][[\"no_flanks\"]]\n",
    "print(f\"{len(df_of_category)} sequences were categorized as {category}:\")\n",
    "print(df_of_category)\n"
   ]
  }
 ],
 "metadata": {
  "kernelspec": {
   "display_name": "venv",
   "language": "python",
   "name": "python3"
  },
  "language_info": {
   "codemirror_mode": {
    "name": "ipython",
    "version": 3
   },
   "file_extension": ".py",
   "mimetype": "text/x-python",
   "name": "python",
   "nbconvert_exporter": "python",
   "pygments_lexer": "ipython3",
   "version": "3.10.12"
  }
 },
 "nbformat": 4,
 "nbformat_minor": 2
}
